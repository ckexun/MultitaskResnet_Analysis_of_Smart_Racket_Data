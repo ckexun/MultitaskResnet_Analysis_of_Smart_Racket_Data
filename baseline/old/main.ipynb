{
 "cells": [
  {
   "cell_type": "code",
   "execution_count": 1,
   "id": "88137b65",
   "metadata": {},
   "outputs": [],
   "source": [
    "# import zipfile\n",
    "# from pathlib import Path\n",
    "\n",
    "# # function to extract zip file\n",
    "# def extract_zip(zip_path: str, extract_to: str):\n",
    "#     \"\"\"Extracts a zip file to the specified directory.\"\"\"\n",
    "#     zip_path = Path(zip_path)\n",
    "#     extract_to = Path(extract_to)\n",
    "\n",
    "#     # make sure target folder exists\n",
    "#     extract_to.mkdir(parents=True, exist_ok=True)\n",
    "\n",
    "#     with zipfile.ZipFile(zip_path, \"r\") as z:\n",
    "#         z.extractall(extract_to)\n",
    "\n",
    "#     print(f\"Extracted {zip_path.name} → {extract_to}/\")\n",
    "\n",
    "# extract_zip(\"./dataset/39_Training_Dataset.zip\", \"./dataset\")\n",
    "# extract_zip(\"./dataset/39_Test_Dataset.zip\", \"./dataset\")\n"
   ]
  },
  {
   "cell_type": "code",
   "execution_count": 4,
   "id": "1c083831",
   "metadata": {},
   "outputs": [],
   "source": [
    "from pathlib import Path\n",
    "import numpy as np\n",
    "import pandas as pd\n",
    "import math\n",
    "import csv\n",
    "from sklearn.model_selection import train_test_split\n",
    "from sklearn.ensemble import RandomForestClassifier\n",
    "from sklearn.preprocessing import MinMaxScaler, LabelEncoder\n",
    "from sklearn.metrics import roc_auc_score\n",
    "import joblib\n",
    "import os"
   ]
  },
  {
   "cell_type": "markdown",
   "id": "be95380b",
   "metadata": {},
   "source": [
    "### 特徵工程"
   ]
  },
  {
   "cell_type": "code",
   "execution_count": 3,
   "id": "66ea043e",
   "metadata": {},
   "outputs": [],
   "source": [
    "# from utils.fft import data_generate\n",
    "\n",
    "# datapath = './dataset/39_Test_Dataset/test_data'\n",
    "# tar_dir = './dataset/39_Test_Dataset/tabular_data_test'\n",
    "# data_generate(datapath, tar_dir)\n",
    "# datapath = './dataset/39_Training_Dataset/train_data'\n",
    "# tar_dir = './dataset/39_Training_Dataset/tabular_data_train'\n",
    "# data_generate(datapath, tar_dir)"
   ]
  },
  {
   "cell_type": "markdown",
   "id": "44e98062",
   "metadata": {},
   "source": [
    "### inference"
   ]
  },
  {
   "cell_type": "code",
   "execution_count": 9,
   "id": "49e87666",
   "metadata": {},
   "outputs": [],
   "source": [
    "def inference(model_dir: str, test_data_dir: str, submission_path: str):\n",
    "    model_dir = Path(model_dir)\n",
    "    test_data_dir = Path(test_data_dir)\n",
    "\n",
    "    # 收集所有測試檔案（每個選手一份）\n",
    "    datalist = list(test_data_dir.glob('**/*.csv'))\n",
    "    unique_ids = [int(f.stem) for f in datalist]\n",
    "\n",
    "\n",
    "    # 載入所有測試資料\n",
    "    x_test = pd.DataFrame()\n",
    "    unique_ids = []\n",
    "    group_size = 27\n",
    "    for file in datalist:\n",
    "        df = pd.read_csv(file)\n",
    "        x_test = pd.concat([x_test, df], ignore_index=True)\n",
    "        n_groups = len(df) // group_size\n",
    "        unique_ids.extend([int(file.stem)] * n_groups)\n",
    "\n",
    "    scaler = joblib.load(model_dir / \"scaler.pkl\")\n",
    "    X_test_scaled = scaler.transform(x_test)\n",
    "    num_groups = len(X_test_scaled) // group_size\n",
    "\n",
    "    # 每位選手 27 筆資料\n",
    "    group_size = 27\n",
    "    num_groups = len(X_test_scaled) // group_size\n",
    "\n",
    "    # 載入模型\n",
    "    model_gender = joblib.load(model_dir / \"gender_model.pkl\")\n",
    "    model_hold = joblib.load(model_dir / \"hold_model.pkl\")\n",
    "    model_years = joblib.load(model_dir / \"years_model.pkl\")\n",
    "    model_level = joblib.load(model_dir / \"level_model.pkl\")\n",
    "\n",
    "    # 預測 group-wise 機率平均\n",
    "    def predict_groupwise_proba(model, X):\n",
    "        pred_proba = model.predict_proba(X)\n",
    "        results = []\n",
    "        for i in range(num_groups):\n",
    "            group = pred_proba[i*group_size:(i+1)*group_size]\n",
    "            avg_proba = np.mean(group, axis=0)\n",
    "            results.append(avg_proba)\n",
    "        return np.array(results)\n",
    "    def predict_binary_groupwise(model, X):\n",
    "        pred_proba = model.predict_proba(X)[:, 0]  # 類別 0 的概率\n",
    "        results = []\n",
    "        if np.mean(pred_proba[:group_size]) > 0.5:\n",
    "            results = [max(pred_proba[i*group_size:(i+1)*group_size]) for i in range(num_groups)]\n",
    "        else:\n",
    "            results = [min(pred_proba[i*group_size:(i+1)*group_size]) for i in range(num_groups)]\n",
    "        return np.array([1 - x for x in results])  # 反轉概率\n",
    "    def predict_multiary_groupwise(model, X):\n",
    "        pred_proba = model.predict_proba(X)\n",
    "        results = []\n",
    "        for i in range(num_groups):\n",
    "            group = pred_proba[i*group_size:(i+1)*group_size]\n",
    "            class_sums = np.sum(group, axis=0)\n",
    "            chosen_class = np.argmax(class_sums)\n",
    "            candidate_probs = group[:, chosen_class]\n",
    "            best_instance = np.argmax(candidate_probs)\n",
    "            results.append(group[best_instance])\n",
    "        return np.array(results)\n",
    "\n",
    "    # 執行四個任務預測\n",
    "    gender_probs = predict_groupwise_proba(model_gender, X_test_scaled)\n",
    "    print(gender_probs)\n",
    "    hold_probs   = predict_groupwise_proba(model_hold, X_test_scaled)\n",
    "    print(hold_probs)\n",
    "    years_probs  = predict_multiary_groupwise(model_years, X_test_scaled)\n",
    "    level_probs  = predict_multiary_groupwise(model_level, X_test_scaled)\n",
    "\n",
    "    # 建立 submission dataframe\n",
    "    submission = pd.DataFrame({\n",
    "        'unique_id': unique_ids,\n",
    "        'gender': np.round(gender_probs[:, 0], 6),\n",
    "        'hold racket handed': np.round(hold_probs[:, 0], 6),\n",
    "        'play years_0': np.round(years_probs[:, 0], 6),\n",
    "        'play years_1': np.round(years_probs[:, 1], 6),\n",
    "        'play years_2': np.round(years_probs[:, 2], 6),\n",
    "        'level_2': np.round(level_probs[:, 0], 6),\n",
    "        'level_3': np.round(level_probs[:, 1], 6),\n",
    "        'level_4': np.round(level_probs[:, 2], 6),\n",
    "        'level_5': np.round(level_probs[:, 3], 6)\n",
    "    })\n",
    "    submission = submission.sort_values(by=\"unique_id\").reset_index(drop=True)\n",
    "    submission.to_csv(submission_path, index=False, encoding='utf-8', lineterminator='\\n', float_format='%.6f')\n",
    "    print(f\"Submission saved to {submission_path}\")"
   ]
  },
  {
   "cell_type": "code",
   "execution_count": 11,
   "id": "3e92e5be",
   "metadata": {},
   "outputs": [
    {
     "name": "stdout",
     "output_type": "stream",
     "text": [
      "[[0.94916098 0.05083902]\n",
      " [0.96376635 0.03623365]\n",
      " [0.94139196 0.05860804]\n",
      " ...\n",
      " [0.9573419  0.0426581 ]\n",
      " [0.96415107 0.03584893]\n",
      " [0.73803748 0.26196252]]\n",
      "[[9.99752083e-01 2.47917269e-04]\n",
      " [9.99631004e-01 3.68995618e-04]\n",
      " [9.97101875e-01 2.89812521e-03]\n",
      " ...\n",
      " [9.99411091e-01 5.88908517e-04]\n",
      " [2.11619855e-02 9.78838014e-01]\n",
      " [9.98873492e-01 1.12650776e-03]]\n",
      "Submission saved to submission0424.csv\n"
     ]
    }
   ],
   "source": [
    "model_dir = \"models\"\n",
    "test_data_dir = \"./dataset/39_Test_Dataset/tabular_data_test\"\n",
    "submission_path = \"submission0424.csv\"\n",
    "inference(model_dir, test_data_dir, submission_path)"
   ]
  },
  {
   "cell_type": "code",
   "execution_count": null,
   "id": "1188f55a",
   "metadata": {},
   "outputs": [
    {
     "ename": "FileNotFoundError",
     "evalue": "[Errno 2] No such file or directory: './models/label_encoder_gender.pkl'",
     "output_type": "error",
     "traceback": [
      "\u001b[0;31m---------------------------------------------------------------------------\u001b[0m",
      "\u001b[0;31mFileNotFoundError\u001b[0m                         Traceback (most recent call last)",
      "Cell \u001b[0;32mIn[7], line 1\u001b[0m\n\u001b[0;32m----> 1\u001b[0m le_gender \u001b[38;5;241m=\u001b[39m \u001b[43mjoblib\u001b[49m\u001b[38;5;241;43m.\u001b[39;49m\u001b[43mload\u001b[49m\u001b[43m(\u001b[49m\u001b[38;5;124;43m\"\u001b[39;49m\u001b[38;5;124;43m./models/label_encoder_gender.pkl\u001b[39;49m\u001b[38;5;124;43m\"\u001b[39;49m\u001b[43m)\u001b[49m\n\u001b[1;32m      2\u001b[0m \u001b[38;5;28mprint\u001b[39m(le_gender\u001b[38;5;241m.\u001b[39mclasses_)  \u001b[38;5;66;03m# 確認 ['female', 'male'] 或其他\u001b[39;00m\n",
      "File \u001b[0;32m~/Documents/GitHub/AI_Based_Analysis_of_Smart_Racket_Data/.venv/lib/python3.10/site-packages/joblib/numpy_pickle.py:650\u001b[0m, in \u001b[0;36mload\u001b[0;34m(filename, mmap_mode)\u001b[0m\n\u001b[1;32m    648\u001b[0m         obj \u001b[38;5;241m=\u001b[39m _unpickle(fobj)\n\u001b[1;32m    649\u001b[0m \u001b[38;5;28;01melse\u001b[39;00m:\n\u001b[0;32m--> 650\u001b[0m     \u001b[38;5;28;01mwith\u001b[39;00m \u001b[38;5;28;43mopen\u001b[39;49m\u001b[43m(\u001b[49m\u001b[43mfilename\u001b[49m\u001b[43m,\u001b[49m\u001b[43m \u001b[49m\u001b[38;5;124;43m'\u001b[39;49m\u001b[38;5;124;43mrb\u001b[39;49m\u001b[38;5;124;43m'\u001b[39;49m\u001b[43m)\u001b[49m \u001b[38;5;28;01mas\u001b[39;00m f:\n\u001b[1;32m    651\u001b[0m         \u001b[38;5;28;01mwith\u001b[39;00m _read_fileobject(f, filename, mmap_mode) \u001b[38;5;28;01mas\u001b[39;00m fobj:\n\u001b[1;32m    652\u001b[0m             \u001b[38;5;28;01mif\u001b[39;00m \u001b[38;5;28misinstance\u001b[39m(fobj, \u001b[38;5;28mstr\u001b[39m):\n\u001b[1;32m    653\u001b[0m                 \u001b[38;5;66;03m# if the returned file object is a string, this means we\u001b[39;00m\n\u001b[1;32m    654\u001b[0m                 \u001b[38;5;66;03m# try to load a pickle file generated with an version of\u001b[39;00m\n\u001b[1;32m    655\u001b[0m                 \u001b[38;5;66;03m# Joblib so we load it with joblib compatibility function.\u001b[39;00m\n",
      "\u001b[0;31mFileNotFoundError\u001b[0m: [Errno 2] No such file or directory: './models/label_encoder_gender.pkl'"
     ]
    }
   ],
   "source": [
    "le_gender = joblib.load(\"./models/label_encoder_gender.pkl\")\n",
    "print(le_gender.classes_)  # 確認 ['female', 'male'] 或其他"
   ]
  }
 ],
 "metadata": {
  "kernelspec": {
   "display_name": ".venv",
   "language": "python",
   "name": "python3"
  },
  "language_info": {
   "codemirror_mode": {
    "name": "ipython",
    "version": 3
   },
   "file_extension": ".py",
   "mimetype": "text/x-python",
   "name": "python",
   "nbconvert_exporter": "python",
   "pygments_lexer": "ipython3",
   "version": "3.10.16"
  }
 },
 "nbformat": 4,
 "nbformat_minor": 5
}
